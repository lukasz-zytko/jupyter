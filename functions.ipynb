{
 "cells": [
  {
   "cell_type": "markdown",
   "id": "37063ce5-640d-4ade-89aa-3eba22e4cb64",
   "metadata": {},
   "source": [
    "# Funkcje w Python'ie\n",
    "Funkcje definiujemy za pomocą komendy def i nazwy naszej funkcji, po której wstawiawmy ewentualne parametry w nawiasach, a po znaku \":\" podajemy instrukcję opracji, którą nasza funkcja ma wywoływać. Następnie kończymy funkcję wskazując co ma zwracać, czyli wynik opisanej opracji.\n",
    "\n",
    "Przykład:"
   ]
  },
  {
   "cell_type": "code",
   "execution_count": 1,
   "id": "cb6cad6e-433e-41eb-81ec-8e476c87e3a3",
   "metadata": {},
   "outputs": [],
   "source": [
    "def dodawanie(x,y):\n",
    "    z = x + y\n",
    "    return z"
   ]
  },
  {
   "cell_type": "markdown",
   "id": "fb45da05-39c7-4638-808d-14776d85e9a7",
   "metadata": {},
   "source": [
    "## Wywoływanie funkcji\n",
    "Aby wywołać funckję trzeba wpisać jej nazwę, a w nawiasach podać parametry.\n",
    "\n",
    "Przykładowo:"
   ]
  },
  {
   "cell_type": "code",
   "execution_count": 5,
   "id": "09f9386d-a160-451b-8061-da8e371fe60e",
   "metadata": {},
   "outputs": [
    {
     "data": {
      "text/plain": [
       "100"
      ]
     },
     "execution_count": 5,
     "metadata": {},
     "output_type": "execute_result"
    }
   ],
   "source": [
    "dodawanie(75,25)"
   ]
  }
 ],
 "metadata": {
  "kernelspec": {
   "display_name": "py3",
   "language": "python",
   "name": "py3"
  },
  "language_info": {
   "codemirror_mode": {
    "name": "ipython",
    "version": 3
   },
   "file_extension": ".py",
   "mimetype": "text/x-python",
   "name": "python",
   "nbconvert_exporter": "python",
   "pygments_lexer": "ipython3",
   "version": "3.9.9"
  }
 },
 "nbformat": 4,
 "nbformat_minor": 5
}
