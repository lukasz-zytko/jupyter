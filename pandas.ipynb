{
 "cells": [
  {
   "cell_type": "code",
   "execution_count": 1,
   "id": "c5a38982-8db5-439c-a080-a57fa481c7a5",
   "metadata": {},
   "outputs": [],
   "source": [
    "import pandas as pd"
   ]
  },
  {
   "cell_type": "code",
   "execution_count": 2,
   "id": "3f74d2d7-fc86-4742-8413-1e91d8cbbab2",
   "metadata": {},
   "outputs": [
    {
     "data": {
      "text/plain": [
       "'1.4.1'"
      ]
     },
     "execution_count": 2,
     "metadata": {},
     "output_type": "execute_result"
    }
   ],
   "source": [
    "pd.__version__"
   ]
  },
  {
   "cell_type": "code",
   "execution_count": 3,
   "id": "fa7442d2-5bd8-4528-83df-e3f935884cf6",
   "metadata": {},
   "outputs": [],
   "source": [
    "salaries = [\n",
    "\t(\"Mark\", 1000),\n",
    "\t(\"John\", 1500),\n",
    "\t(\"Daniel\", 2300),\n",
    "\t(\"Greg\", 5000)\n",
    "]"
   ]
  },
  {
   "cell_type": "code",
   "execution_count": 12,
   "id": "ea69bf54-cf62-4f9e-bca4-118a303ea87d",
   "metadata": {},
   "outputs": [],
   "source": [
    "names_series = pd.Series([\"Mark\",\"John\",\"Daniel\",\"Greg\"])"
   ]
  },
  {
   "cell_type": "code",
   "execution_count": 13,
   "id": "fa59c77b-1b05-476c-b05b-0c9889e54ad1",
   "metadata": {},
   "outputs": [
    {
     "data": {
      "text/plain": [
       "0      Mark\n",
       "1      John\n",
       "2    Daniel\n",
       "3      Greg\n",
       "dtype: object"
      ]
     },
     "execution_count": 13,
     "metadata": {},
     "output_type": "execute_result"
    }
   ],
   "source": [
    "names_series"
   ]
  },
  {
   "cell_type": "code",
   "execution_count": 7,
   "id": "57a7795b-4040-4641-acec-74c5b37eed90",
   "metadata": {},
   "outputs": [],
   "source": [
    "salary_series = pd.Series([1000,1500,2300,5000])"
   ]
  },
  {
   "cell_type": "code",
   "execution_count": 8,
   "id": "821a560b-fc2d-4f70-8089-7c419c57c5a5",
   "metadata": {},
   "outputs": [
    {
     "data": {
      "text/plain": [
       "0    1000\n",
       "1    1500\n",
       "2    2300\n",
       "3    5000\n",
       "dtype: int64"
      ]
     },
     "execution_count": 8,
     "metadata": {},
     "output_type": "execute_result"
    }
   ],
   "source": [
    "salary_series"
   ]
  },
  {
   "cell_type": "code",
   "execution_count": 14,
   "id": "413b1094-f4f4-42ba-b348-27998f16d434",
   "metadata": {},
   "outputs": [
    {
     "data": {
      "text/plain": [
       "count        4\n",
       "unique       4\n",
       "top       Mark\n",
       "freq         1\n",
       "dtype: object"
      ]
     },
     "execution_count": 14,
     "metadata": {},
     "output_type": "execute_result"
    }
   ],
   "source": [
    "names_series.describe()"
   ]
  },
  {
   "cell_type": "code",
   "execution_count": 15,
   "id": "618105a9-2872-481e-8324-3e746c872978",
   "metadata": {},
   "outputs": [
    {
     "data": {
      "text/plain": [
       "count       4.000000\n",
       "mean     2450.000000\n",
       "std      1782.320585\n",
       "min      1000.000000\n",
       "25%      1375.000000\n",
       "50%      1900.000000\n",
       "75%      2975.000000\n",
       "max      5000.000000\n",
       "dtype: float64"
      ]
     },
     "execution_count": 15,
     "metadata": {},
     "output_type": "execute_result"
    }
   ],
   "source": [
    "salary_series.describe()"
   ]
  },
  {
   "cell_type": "code",
   "execution_count": 17,
   "id": "86883baf-e78f-4c1a-9324-ca82041726a1",
   "metadata": {},
   "outputs": [
    {
     "name": "stdout",
     "output_type": "stream",
     "text": [
      "1000\n",
      "1500\n",
      "2300\n",
      "5000\n"
     ]
    }
   ],
   "source": [
    "for serie in salary_series:\n",
    "    print(serie)"
   ]
  },
  {
   "cell_type": "code",
   "execution_count": 19,
   "id": "03b807c6-8484-4ea3-b7b0-366114af60b9",
   "metadata": {},
   "outputs": [],
   "source": [
    "new_salary_series = salary_series+100"
   ]
  },
  {
   "cell_type": "code",
   "execution_count": 21,
   "id": "0510825f-7032-450a-8dc1-fe3afaea5938",
   "metadata": {},
   "outputs": [
    {
     "name": "stdout",
     "output_type": "stream",
     "text": [
      "1100\n",
      "1600\n",
      "2400\n",
      "5100\n"
     ]
    }
   ],
   "source": [
    "for salary in new_salary_series:\n",
    "    print(salary)"
   ]
  },
  {
   "cell_type": "code",
   "execution_count": 22,
   "id": "f7f350da-55f6-432f-9266-5060949a31e3",
   "metadata": {},
   "outputs": [
    {
     "data": {
      "text/plain": [
       "RangeIndex(start=0, stop=4, step=1)"
      ]
     },
     "execution_count": 22,
     "metadata": {},
     "output_type": "execute_result"
    }
   ],
   "source": [
    "new_salary_series.index"
   ]
  },
  {
   "cell_type": "code",
   "execution_count": 23,
   "id": "9b75b289-52f0-4a56-b826-31d8a2b09bf8",
   "metadata": {},
   "outputs": [],
   "source": [
    "new_salary_series.index = names_series"
   ]
  },
  {
   "cell_type": "code",
   "execution_count": 24,
   "id": "a02ab2c2-8105-48c5-a563-a1b646b84dd0",
   "metadata": {},
   "outputs": [
    {
     "data": {
      "text/plain": [
       "Mark      1100\n",
       "John      1600\n",
       "Daniel    2400\n",
       "Greg      5100\n",
       "dtype: int64"
      ]
     },
     "execution_count": 24,
     "metadata": {},
     "output_type": "execute_result"
    }
   ],
   "source": [
    "new_salary_series"
   ]
  },
  {
   "cell_type": "code",
   "execution_count": 26,
   "id": "b39cba6c-1983-4836-ab2a-c1022f092baf",
   "metadata": {},
   "outputs": [
    {
     "data": {
      "text/plain": [
       "1100"
      ]
     },
     "execution_count": 26,
     "metadata": {},
     "output_type": "execute_result"
    }
   ],
   "source": [
    "new_salary_series[\"Mark\"]"
   ]
  },
  {
   "cell_type": "code",
   "execution_count": 53,
   "id": "7d09c685-712f-4d0a-9c23-09b9e1c8d14a",
   "metadata": {},
   "outputs": [],
   "source": [
    "names = [\"Mark\", \"John\", \"Daniel\", \"Greg\"]\n",
    "salaries = [1000, 1500, 2300, 5000]\n",
    "salary_series_improved = pd.Series(salaries, index=names)"
   ]
  },
  {
   "cell_type": "code",
   "execution_count": 54,
   "id": "2977c56f-588a-4b43-ae32-4ec28d2e3fdf",
   "metadata": {},
   "outputs": [
    {
     "data": {
      "text/plain": [
       "Mark      1000\n",
       "John      1500\n",
       "Daniel    2300\n",
       "Greg      5000\n",
       "dtype: int64"
      ]
     },
     "execution_count": 54,
     "metadata": {},
     "output_type": "execute_result"
    }
   ],
   "source": [
    "salary_series_improved"
   ]
  },
  {
   "cell_type": "code",
   "execution_count": 29,
   "id": "cc8a1372-5423-40b0-813c-d77f9705e429",
   "metadata": {},
   "outputs": [],
   "source": [
    "salaries = [\n",
    "\t(\"Mark\", 1000, 23),\n",
    "\t(\"John\", 1500, 25),\n",
    "\t(\"Daniel\", 2300, 38),\n",
    "\t(\"Greg\", 5000, 42)\n",
    "]"
   ]
  },
  {
   "cell_type": "code",
   "execution_count": 30,
   "id": "63a4395d-7f1f-4288-8846-1c89c5410e2c",
   "metadata": {},
   "outputs": [],
   "source": [
    "df = pd.DataFrame(salaries)"
   ]
  },
  {
   "cell_type": "code",
   "execution_count": 31,
   "id": "e1b90326-e8dc-496b-bdbd-b230a581a192",
   "metadata": {},
   "outputs": [
    {
     "data": {
      "text/html": [
       "<div>\n",
       "<style scoped>\n",
       "    .dataframe tbody tr th:only-of-type {\n",
       "        vertical-align: middle;\n",
       "    }\n",
       "\n",
       "    .dataframe tbody tr th {\n",
       "        vertical-align: top;\n",
       "    }\n",
       "\n",
       "    .dataframe thead th {\n",
       "        text-align: right;\n",
       "    }\n",
       "</style>\n",
       "<table border=\"1\" class=\"dataframe\">\n",
       "  <thead>\n",
       "    <tr style=\"text-align: right;\">\n",
       "      <th></th>\n",
       "      <th>0</th>\n",
       "      <th>1</th>\n",
       "      <th>2</th>\n",
       "    </tr>\n",
       "  </thead>\n",
       "  <tbody>\n",
       "    <tr>\n",
       "      <th>0</th>\n",
       "      <td>Mark</td>\n",
       "      <td>1000</td>\n",
       "      <td>23</td>\n",
       "    </tr>\n",
       "    <tr>\n",
       "      <th>1</th>\n",
       "      <td>John</td>\n",
       "      <td>1500</td>\n",
       "      <td>25</td>\n",
       "    </tr>\n",
       "    <tr>\n",
       "      <th>2</th>\n",
       "      <td>Daniel</td>\n",
       "      <td>2300</td>\n",
       "      <td>38</td>\n",
       "    </tr>\n",
       "    <tr>\n",
       "      <th>3</th>\n",
       "      <td>Greg</td>\n",
       "      <td>5000</td>\n",
       "      <td>42</td>\n",
       "    </tr>\n",
       "  </tbody>\n",
       "</table>\n",
       "</div>"
      ],
      "text/plain": [
       "        0     1   2\n",
       "0    Mark  1000  23\n",
       "1    John  1500  25\n",
       "2  Daniel  2300  38\n",
       "3    Greg  5000  42"
      ]
     },
     "execution_count": 31,
     "metadata": {},
     "output_type": "execute_result"
    }
   ],
   "source": [
    "df"
   ]
  },
  {
   "cell_type": "code",
   "execution_count": 32,
   "id": "56cc73d7-7a7f-4a0d-8c56-6a4fe68e50e9",
   "metadata": {},
   "outputs": [
    {
     "data": {
      "text/plain": [
       "<bound method NDFrame.head of         0     1   2\n",
       "0    Mark  1000  23\n",
       "1    John  1500  25\n",
       "2  Daniel  2300  38\n",
       "3    Greg  5000  42>"
      ]
     },
     "execution_count": 32,
     "metadata": {},
     "output_type": "execute_result"
    }
   ],
   "source": [
    "df.head"
   ]
  },
  {
   "cell_type": "code",
   "execution_count": 33,
   "id": "65ffe0a4-fe23-419a-96fa-c8f526def3ce",
   "metadata": {},
   "outputs": [
    {
     "data": {
      "text/html": [
       "<div>\n",
       "<style scoped>\n",
       "    .dataframe tbody tr th:only-of-type {\n",
       "        vertical-align: middle;\n",
       "    }\n",
       "\n",
       "    .dataframe tbody tr th {\n",
       "        vertical-align: top;\n",
       "    }\n",
       "\n",
       "    .dataframe thead th {\n",
       "        text-align: right;\n",
       "    }\n",
       "</style>\n",
       "<table border=\"1\" class=\"dataframe\">\n",
       "  <thead>\n",
       "    <tr style=\"text-align: right;\">\n",
       "      <th></th>\n",
       "      <th>0</th>\n",
       "      <th>1</th>\n",
       "      <th>2</th>\n",
       "    </tr>\n",
       "  </thead>\n",
       "  <tbody>\n",
       "    <tr>\n",
       "      <th>0</th>\n",
       "      <td>Mark</td>\n",
       "      <td>1000</td>\n",
       "      <td>23</td>\n",
       "    </tr>\n",
       "    <tr>\n",
       "      <th>1</th>\n",
       "      <td>John</td>\n",
       "      <td>1500</td>\n",
       "      <td>25</td>\n",
       "    </tr>\n",
       "    <tr>\n",
       "      <th>2</th>\n",
       "      <td>Daniel</td>\n",
       "      <td>2300</td>\n",
       "      <td>38</td>\n",
       "    </tr>\n",
       "    <tr>\n",
       "      <th>3</th>\n",
       "      <td>Greg</td>\n",
       "      <td>5000</td>\n",
       "      <td>42</td>\n",
       "    </tr>\n",
       "  </tbody>\n",
       "</table>\n",
       "</div>"
      ],
      "text/plain": [
       "        0     1   2\n",
       "0    Mark  1000  23\n",
       "1    John  1500  25\n",
       "2  Daniel  2300  38\n",
       "3    Greg  5000  42"
      ]
     },
     "execution_count": 33,
     "metadata": {},
     "output_type": "execute_result"
    }
   ],
   "source": [
    "df.head()"
   ]
  },
  {
   "cell_type": "code",
   "execution_count": 38,
   "id": "79cad134-333a-4512-b8d7-6bf866081c8b",
   "metadata": {},
   "outputs": [
    {
     "data": {
      "text/html": [
       "<div>\n",
       "<style scoped>\n",
       "    .dataframe tbody tr th:only-of-type {\n",
       "        vertical-align: middle;\n",
       "    }\n",
       "\n",
       "    .dataframe tbody tr th {\n",
       "        vertical-align: top;\n",
       "    }\n",
       "\n",
       "    .dataframe thead th {\n",
       "        text-align: right;\n",
       "    }\n",
       "</style>\n",
       "<table border=\"1\" class=\"dataframe\">\n",
       "  <thead>\n",
       "    <tr style=\"text-align: right;\">\n",
       "      <th></th>\n",
       "      <th>salary</th>\n",
       "      <th>age</th>\n",
       "    </tr>\n",
       "    <tr>\n",
       "      <th>name</th>\n",
       "      <th></th>\n",
       "      <th></th>\n",
       "    </tr>\n",
       "  </thead>\n",
       "  <tbody>\n",
       "    <tr>\n",
       "      <th>Mark</th>\n",
       "      <td>1000</td>\n",
       "      <td>23</td>\n",
       "    </tr>\n",
       "    <tr>\n",
       "      <th>John</th>\n",
       "      <td>1500</td>\n",
       "      <td>25</td>\n",
       "    </tr>\n",
       "    <tr>\n",
       "      <th>Daniel</th>\n",
       "      <td>2300</td>\n",
       "      <td>38</td>\n",
       "    </tr>\n",
       "    <tr>\n",
       "      <th>Greg</th>\n",
       "      <td>5000</td>\n",
       "      <td>42</td>\n",
       "    </tr>\n",
       "  </tbody>\n",
       "</table>\n",
       "</div>"
      ],
      "text/plain": [
       "        salary  age\n",
       "name               \n",
       "Mark      1000   23\n",
       "John      1500   25\n",
       "Daniel    2300   38\n",
       "Greg      5000   42"
      ]
     },
     "execution_count": 38,
     "metadata": {},
     "output_type": "execute_result"
    }
   ],
   "source": [
    "df = pd.DataFrame(salaries, columns=[\"name\",\"salary\",\"age\"])\n",
    "df = df.set_index(\"name\")\n",
    "df"
   ]
  },
  {
   "cell_type": "code",
   "execution_count": 39,
   "id": "c8ae9e23-2b04-4e29-a02c-2fdde01935f9",
   "metadata": {},
   "outputs": [
    {
     "data": {
      "text/plain": [
       "salary    5000\n",
       "age         42\n",
       "dtype: int64"
      ]
     },
     "execution_count": 39,
     "metadata": {},
     "output_type": "execute_result"
    }
   ],
   "source": [
    "df.max()"
   ]
  },
  {
   "cell_type": "code",
   "execution_count": 40,
   "id": "aa4a4762-61e9-441c-b6d3-25a6fe0ad186",
   "metadata": {},
   "outputs": [
    {
     "data": {
      "text/plain": [
       "salary    2450.0\n",
       "age         32.0\n",
       "dtype: float64"
      ]
     },
     "execution_count": 40,
     "metadata": {},
     "output_type": "execute_result"
    }
   ],
   "source": [
    "df.mean()"
   ]
  },
  {
   "cell_type": "code",
   "execution_count": 41,
   "id": "b5304659-ee15-4633-a7d4-a2da55bb3acf",
   "metadata": {},
   "outputs": [
    {
     "data": {
      "text/html": [
       "<div>\n",
       "<style scoped>\n",
       "    .dataframe tbody tr th:only-of-type {\n",
       "        vertical-align: middle;\n",
       "    }\n",
       "\n",
       "    .dataframe tbody tr th {\n",
       "        vertical-align: top;\n",
       "    }\n",
       "\n",
       "    .dataframe thead th {\n",
       "        text-align: right;\n",
       "    }\n",
       "</style>\n",
       "<table border=\"1\" class=\"dataframe\">\n",
       "  <thead>\n",
       "    <tr style=\"text-align: right;\">\n",
       "      <th></th>\n",
       "      <th>salary</th>\n",
       "      <th>age</th>\n",
       "    </tr>\n",
       "  </thead>\n",
       "  <tbody>\n",
       "    <tr>\n",
       "      <th>count</th>\n",
       "      <td>4.000000</td>\n",
       "      <td>4.000000</td>\n",
       "    </tr>\n",
       "    <tr>\n",
       "      <th>mean</th>\n",
       "      <td>2450.000000</td>\n",
       "      <td>32.000000</td>\n",
       "    </tr>\n",
       "    <tr>\n",
       "      <th>std</th>\n",
       "      <td>1782.320585</td>\n",
       "      <td>9.416298</td>\n",
       "    </tr>\n",
       "    <tr>\n",
       "      <th>min</th>\n",
       "      <td>1000.000000</td>\n",
       "      <td>23.000000</td>\n",
       "    </tr>\n",
       "    <tr>\n",
       "      <th>25%</th>\n",
       "      <td>1375.000000</td>\n",
       "      <td>24.500000</td>\n",
       "    </tr>\n",
       "    <tr>\n",
       "      <th>50%</th>\n",
       "      <td>1900.000000</td>\n",
       "      <td>31.500000</td>\n",
       "    </tr>\n",
       "    <tr>\n",
       "      <th>75%</th>\n",
       "      <td>2975.000000</td>\n",
       "      <td>39.000000</td>\n",
       "    </tr>\n",
       "    <tr>\n",
       "      <th>max</th>\n",
       "      <td>5000.000000</td>\n",
       "      <td>42.000000</td>\n",
       "    </tr>\n",
       "  </tbody>\n",
       "</table>\n",
       "</div>"
      ],
      "text/plain": [
       "            salary        age\n",
       "count     4.000000   4.000000\n",
       "mean   2450.000000  32.000000\n",
       "std    1782.320585   9.416298\n",
       "min    1000.000000  23.000000\n",
       "25%    1375.000000  24.500000\n",
       "50%    1900.000000  31.500000\n",
       "75%    2975.000000  39.000000\n",
       "max    5000.000000  42.000000"
      ]
     },
     "execution_count": 41,
     "metadata": {},
     "output_type": "execute_result"
    }
   ],
   "source": [
    "df.describe()"
   ]
  },
  {
   "cell_type": "code",
   "execution_count": 43,
   "id": "713fde49-cdc4-4023-9a9f-4ab19876432c",
   "metadata": {},
   "outputs": [],
   "source": [
    "salary_increased_series = df[\"salary\"].apply(lambda salary: salary + 2000)\n",
    "df[\"salary\"] = salary_increased_series"
   ]
  },
  {
   "cell_type": "code",
   "execution_count": 60,
   "id": "8d284da4-683d-438e-94b6-c98605cc4fc4",
   "metadata": {},
   "outputs": [],
   "source": [
    "salaries = [\n",
    "\t(\"Mark\", 1000, 23),\n",
    "\t(\"John\", 1500, 25),\n",
    "\t(\"Daniel\", 2300, 38),\n",
    "\t(\"Greg\", 5000, 42)\n",
    "]"
   ]
  },
  {
   "cell_type": "code",
   "execution_count": 87,
   "id": "5a14adab-4494-44fd-9926-3705e44564de",
   "metadata": {},
   "outputs": [
    {
     "data": {
      "text/html": [
       "<div>\n",
       "<style scoped>\n",
       "    .dataframe tbody tr th:only-of-type {\n",
       "        vertical-align: middle;\n",
       "    }\n",
       "\n",
       "    .dataframe tbody tr th {\n",
       "        vertical-align: top;\n",
       "    }\n",
       "\n",
       "    .dataframe thead th {\n",
       "        text-align: right;\n",
       "    }\n",
       "</style>\n",
       "<table border=\"1\" class=\"dataframe\">\n",
       "  <thead>\n",
       "    <tr style=\"text-align: right;\">\n",
       "      <th></th>\n",
       "      <th>salary</th>\n",
       "      <th>age</th>\n",
       "      <th>initials</th>\n",
       "    </tr>\n",
       "    <tr>\n",
       "      <th>name</th>\n",
       "      <th></th>\n",
       "      <th></th>\n",
       "      <th></th>\n",
       "    </tr>\n",
       "  </thead>\n",
       "  <tbody>\n",
       "    <tr>\n",
       "      <th>Mark</th>\n",
       "      <td>1000</td>\n",
       "      <td>23</td>\n",
       "      <td>M</td>\n",
       "    </tr>\n",
       "    <tr>\n",
       "      <th>John</th>\n",
       "      <td>1500</td>\n",
       "      <td>25</td>\n",
       "      <td>J</td>\n",
       "    </tr>\n",
       "    <tr>\n",
       "      <th>Daniel</th>\n",
       "      <td>2300</td>\n",
       "      <td>38</td>\n",
       "      <td>D</td>\n",
       "    </tr>\n",
       "    <tr>\n",
       "      <th>Greg</th>\n",
       "      <td>5000</td>\n",
       "      <td>42</td>\n",
       "      <td>G</td>\n",
       "    </tr>\n",
       "  </tbody>\n",
       "</table>\n",
       "</div>"
      ],
      "text/plain": [
       "        salary  age initials\n",
       "name                        \n",
       "Mark      1000   23        M\n",
       "John      1500   25        J\n",
       "Daniel    2300   38        D\n",
       "Greg      5000   42        G"
      ]
     },
     "execution_count": 87,
     "metadata": {},
     "output_type": "execute_result"
    }
   ],
   "source": [
    "df = pd.DataFrame(salaries, columns=[\"name\", \"salary\", \"age\"])\n",
    "initials = df[\"name\"].apply(lambda name: name[0])\n",
    "df[\"initials\"] = init\n",
    "df = df.set_index(\"name\")\n",
    "df"
   ]
  },
  {
   "cell_type": "code",
   "execution_count": 88,
   "id": "18721a0e-00d6-4221-bc46-f90f904716d0",
   "metadata": {},
   "outputs": [
    {
     "data": {
      "text/plain": [
       "<BarContainer object of 4 artists>"
      ]
     },
     "execution_count": 88,
     "metadata": {},
     "output_type": "execute_result"
    },
    {
     "data": {
      "image/png": "[encoded data removed]",
      "text/plain": [
       "<Figure size 432x288 with 1 Axes>"
      ]
     },
     "metadata": {
      "needs_background": "light"
     },
     "output_type": "display_data"
    }
   ],
   "source": [
    "import matplotlib.pyplot as plt\n",
    "plt.bar(df.index, df[\"salary\"])"
   ]
  },
  {
   "cell_type": "code",
   "execution_count": 108,
   "id": "ddf5f138-8b20-4414-8ed9-9bf4721ed7fb",
   "metadata": {},
   "outputs": [
    {
     "data": {
      "text/plain": [
       "<AxesSubplot:title={'center':'Workers age'}, xlabel='name'>"
      ]
     },
     "execution_count": 108,
     "metadata": {},
     "output_type": "execute_result"
    },
    {
     "data": {
      "image/png": "[encoded data removed]",
      "text/plain": [
       "<Figure size 432x288 with 1 Axes>"
      ]
     },
     "metadata": {
      "needs_background": "light"
     },
     "output_type": "display_data"
    }
   ],
   "source": [
    "df['age'].plot(kind='bar', title=\"Workers age\", color=\"NavajoWhite\")"
   ]
  },
  {
   "cell_type": "code",
   "execution_count": 117,
   "id": "3f6f9320-66f6-4d71-9e29-a03fd1a908c0",
   "metadata": {},
   "outputs": [
    {
     "name": "stdout",
     "output_type": "stream",
     "text": [
      "Suma n liczb wynosi:125250\n"
     ]
    }
   ],
   "source": [
    "def give_me_first_n_numbers(n):\n",
    "    for i in range(1,n+1):\n",
    "                yield i\n",
    "sum = 0\n",
    "for number in give_me_first_n_numbers(500):\n",
    "    sum = sum + number\n",
    "print(f\"Suma n liczb wynosi:{sum}\")"
   ]
  },
  {
   "cell_type": "code",
   "execution_count": null,
   "id": "98581f4d-b799-40ff-bd24-a604c2c7d304",
   "metadata": {},
   "outputs": [],
   "source": []
  }
 ],
 "metadata": {
  "kernelspec": {
   "display_name": "py3",
   "language": "python",
   "name": "py3"
  },
  "language_info": {
   "codemirror_mode": {
    "name": "ipython",
    "version": 3
   },
   "file_extension": ".py",
   "mimetype": "text/x-python",
   "name": "python",
   "nbconvert_exporter": "python",
   "pygments_lexer": "ipython3",
   "version": "3.9.9"
  }
 },
 "nbformat": 4,
 "nbformat_minor": 5
}
